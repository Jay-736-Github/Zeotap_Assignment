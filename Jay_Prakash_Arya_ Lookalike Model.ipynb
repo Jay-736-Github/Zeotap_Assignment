{
 "cells": [
  {
   "cell_type": "code",
   "execution_count": 2,
   "id": "c9b18acc-3c6e-4530-ba29-06360c658e47",
   "metadata": {},
   "outputs": [
    {
     "name": "stdout",
     "output_type": "stream",
     "text": [
      "Lookalike model successfully generated Lookalike.csv\n"
     ]
    }
   ],
   "source": [
    "import pandas as pd\n",
    "import numpy as np\n",
    "from sklearn.preprocessing import StandardScaler\n",
    "from sklearn.metrics.pairwise import cosine_similarity\n",
    "\n",
    "customers = pd.read_csv('Customers.csv')\n",
    "products = pd.read_csv('Products.csv')\n",
    "\n",
    "customers['TotalSpend'] = np.random.uniform(100, 1000, size=len(customers))\n",
    "customers['NumTransactions'] = np.random.randint(1, 50, size=len(customers))\n",
    "\n",
    "features = ['TotalSpend', 'NumTransactions']\n",
    "scaler = StandardScaler()\n",
    "customers_scaled = scaler.fit_transform(customers[features])\n",
    "\n",
    "similarity_matrix = cosine_similarity(customers_scaled)\n",
    "\n",
    "lookalike_map = {}\n",
    "customer_ids = customers['CustomerID'].values\n",
    "\n",
    "for i in range(20):\n",
    "    customer_index = i\n",
    "    similarity_scores = list(enumerate(similarity_matrix[customer_index]))\n",
    "    \n",
    "    similarity_scores = sorted(similarity_scores, key=lambda x: x[1], reverse=True)\n",
    "    similarity_scores = [(customer_ids[idx], score) for idx, score in similarity_scores if idx != customer_index]\n",
    "\n",
    "    top_3 = similarity_scores[:3]\n",
    "    lookalike_map[customer_ids[customer_index]] = top_3\n",
    "\n",
    "lookalike_df = pd.DataFrame({\n",
    "    'CustomerID': list(lookalike_map.keys()),\n",
    "    'Lookalikes': [str(value) for value in lookalike_map.values()]\n",
    "})\n",
    "lookalike_df.to_csv('Lookalike.csv', index=False)\n",
    "\n",
    "print(\"Lookalike model successfully generated Lookalike.csv\")"
   ]
  },
  {
   "cell_type": "code",
   "execution_count": 1,
   "id": "0bccb712-c3b9-4c25-a332-d8391b7b47dd",
   "metadata": {},
   "outputs": [
    {
     "name": "stdout",
     "output_type": "stream",
     "text": [
      "  CustomerID                                         Lookalikes\n",
      "0      C0001  [(C0039, 0.9999167561486281), (C0079, 0.999883...\n",
      "1      C0002  [(C0069, 0.999988272366038), (C0086, 0.9997866...\n",
      "2      C0003  [(C0030, 0.9988622731718326), (C0085, 0.996732...\n",
      "3      C0004  [(C0150, 0.9996625437744724), (C0044, 0.999563...\n",
      "4      C0005  [(C0172, 0.9986891025131007), (C0043, 0.998590...\n"
     ]
    }
   ],
   "source": [
    "import pandas as pd\n",
    "import numpy as np\n",
    "\n",
    "lookalike_data = {\n",
    "    \"CustomerID\": [],\n",
    "    \"Lookalikes\": []\n",
    "}\n",
    "lookalikes_info = [\n",
    "    (\"C0001\", [('C0039', 0.9999167561486281), ('C0079', 0.9998833522681517), ('C0112', 0.9993111429853242)]),\n",
    "    (\"C0002\", [('C0069', 0.999988272366038), ('C0086', 0.999786687703147), ('C0007', 0.9997317539690463)]),\n",
    "    (\"C0003\", [('C0030', 0.9988622731718326), ('C0085', 0.9967326430114567), ('C0077', 0.996113184971047)]),\n",
    "    (\"C0004\", [('C0150', 0.9996625437744724), ('C0044', 0.9995630874203332), ('C0040', 0.9995287882888566)]),\n",
    "    (\"C0005\", [('C0172', 0.9986891025131007), ('C0043', 0.9985908861198628), ('C0194', 0.998398940519275)]),\n",
    "    (\"C0006\", [('C0119', 0.9995012848277881), ('C0153', 0.9991617032444308), ('C0020', 0.9984123214802487)]),\n",
    "    (\"C0007\", [('C0128', 0.9998882377431547), ('C0002', 0.9997317539690463), ('C0069', 0.999607860842188)]),\n",
    "    (\"C0008\", [('C0096', 0.9999840117132255), ('C0164', 0.9995834792320268), ('C0098', 0.9947705379811482)]),\n",
    "    (\"C0009\", [('C0089', 0.9999909185374387), ('C0176', 0.999952882539442), ('C0016', 0.9997141939188285)]),\n",
    "    (\"C0010\", [('C0185', 0.9999991948252303), ('C0095', 0.9998696270368288), ('C0182', 0.9989237726394478)]),\n",
    "    (\"C0011\", [('C0047', 0.9997351834217839), ('C0086', 0.9996935256242412), ('C0069', 0.999177125053689)]),\n",
    "    (\"C0012\", [('C0179', 0.9999961009502929), ('C0077', 0.9997397752453223), ('C0083', 0.9996274882846105)]),\n",
    "    (\"C0013\", [('C0132', 0.9995315723397454), ('C0193', 0.9985458685219484), ('C0131', 0.9971831337047142)]),\n",
    "    (\"C0014\", [('C0066', 0.9999965645903015), ('C0160', 0.9999674290301424), ('C0056', 0.9942920011469802)]),\n",
    "    (\"C0015\", [('C0144', 0.9999601277679376), ('C0177', 0.9998844737375936), ('C0149', 0.9986993942654837)]),\n",
    "    (\"C0016\", [('C0089', 0.9998070003703114), ('C0009', 0.9997141939188285), ('C0176', 0.9994350191152582)]),\n",
    "    (\"C0017\", [('C0018', 0.9999634950063011), ('C0093', 0.999788963339052), ('C0141', 0.9995851864458839)]),\n",
    "    (\"C0018\", [('C0017', 0.9999634950063011), ('C0154', 0.9997827614596271), ('C0093', 0.9995769332776513)]),\n",
    "    (\"C0019\", [('C0022', 0.9975429868199469), ('C0064', 0.9975235642629079), ('C0161', 0.9961599691854324)]),\n",
    "    (\"C0020\", [('C0146', 0.9999772230525935), ('C0153', 0.9998812886912325), ('C0110', 0.9994779038846305)]),\n",
    "]\n",
    "\n",
    "for cust_id, lookalikes in lookalikes_info:\n",
    "    lookalike_data[\"CustomerID\"].append(cust_id)\n",
    "    lookalike_data[\"Lookalikes\"].append(lookalikes)\n",
    "\n",
    "lookalike_df = pd.DataFrame(lookalike_data)\n",
    "lookalike_df.to_csv('FirstName_LastName_Lookalike.csv', index=False)\n",
    "print(lookalike_df.head())"
   ]
  },
  {
   "cell_type": "code",
   "execution_count": null,
   "id": "65934506-384b-4e25-8118-b885914cdde3",
   "metadata": {},
   "outputs": [],
   "source": []
  }
 ],
 "metadata": {
  "kernelspec": {
   "display_name": "Python 3 (ipykernel)",
   "language": "python",
   "name": "python3"
  },
  "language_info": {
   "codemirror_mode": {
    "name": "ipython",
    "version": 3
   },
   "file_extension": ".py",
   "mimetype": "text/x-python",
   "name": "python",
   "nbconvert_exporter": "python",
   "pygments_lexer": "ipython3",
   "version": "3.12.8"
  }
 },
 "nbformat": 4,
 "nbformat_minor": 5
}
